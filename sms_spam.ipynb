{
 "cells": [
  {
   "cell_type": "code",
   "execution_count": null,
   "id": "e11fee7d-9ddb-4a2b-a208-6c7b9ad5b739",
   "metadata": {},
   "outputs": [],
   "source": []
  }
 ],
 "metadata": {
  "kernelspec": {
   "display_name": "",
   "name": ""
  },
  "language_info": {
   "name": ""
  }
 },
 "nbformat": 4,
 "nbformat_minor": 5
}
