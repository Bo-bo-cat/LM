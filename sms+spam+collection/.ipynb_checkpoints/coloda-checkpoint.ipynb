{
 "cells": [
  {
   "cell_type": "code",
   "execution_count": 3,
   "id": "9f86d1a1-082b-4925-8b9f-ca6ab3d9b580",
   "metadata": {},
   "outputs": [],
   "source": [
    "import random"
   ]
  },
  {
   "cell_type": "code",
   "execution_count": 10,
   "id": "0316f7aa-e96b-4901-962c-552d144b8e77",
   "metadata": {},
   "outputs": [
    {
     "data": {
      "text/plain": [
       "{'suit': 'pika', 'value': '8'}"
      ]
     },
     "execution_count": 10,
     "metadata": {},
     "output_type": "execute_result"
    }
   ],
   "source": [
    "random.choice(koloda)"
   ]
  },
  {
   "cell_type": "code",
   "execution_count": 15,
   "id": "9940da2e-9b16-46fc-96a8-9cb4cdf17d34",
   "metadata": {},
   "outputs": [],
   "source": []
  },
  {
   "cell_type": "markdown",
   "id": "079ade4e-cc85-4af4-b568-34ad6692b76b",
   "metadata": {},
   "source": []
  },
  {
   "cell_type": "code",
   "execution_count": null,
   "id": "e2034e03-d617-4537-b698-735cbab05406",
   "metadata": {},
   "outputs": [],
   "source": [
    "\n"
   ]
  },
  {
   "cell_type": "code",
   "execution_count": null,
   "id": "891d3977-ef42-435a-908a-a64ae3c4a912",
   "metadata": {},
   "outputs": [],
   "source": []
  },
  {
   "cell_type": "code",
   "execution_count": 13,
   "id": "4806ddee-e47c-4520-892d-1baf6a3d1e83",
   "metadata": {},
   "outputs": [],
   "source": [
    "class Card:\n",
    "    def _init_(self, suit, value):\n",
    "        self.suit = suit \n",
    "        self.suit = value\n",
    "    "
   ]
  },
  {
   "cell_type": "code",
   "execution_count": null,
   "id": "ce596bc9-8b72-48af-8178-40f3e2d178c0",
   "metadata": {},
   "outputs": [],
   "source": []
  },
  {
   "cell_type": "code",
   "execution_count": null,
   "id": "4702bf4c-fba8-42b6-8598-64c2e2b2dcb5",
   "metadata": {},
   "outputs": [],
   "source": []
  },
  {
   "cell_type": "code",
   "execution_count": 10,
   "id": "17cb2c1d-4b5b-4861-99a8-6519f678c9c8",
   "metadata": {},
   "outputs": [],
   "source": []
  },
  {
   "cell_type": "code",
   "execution_count": 4,
   "id": "dc58eca0-430f-4dc1-9c0d-ead6b4da2625",
   "metadata": {},
   "outputs": [
    {
     "ename": "IndentationError",
     "evalue": "expected an indented block after function definition on line 2 (3161535752.py, line 5)",
     "output_type": "error",
     "traceback": [
      "  \u001b[36mCell\u001b[39m\u001b[36m \u001b[39m\u001b[32mIn[4]\u001b[39m\u001b[32m, line 5\u001b[39m\n\u001b[31m    \u001b[39m\u001b[31mCH = \"chervy\"\u001b[39m\n                 ^\n\u001b[31mIndentationError\u001b[39m\u001b[31m:\u001b[39m expected an indented block after function definition on line 2\n"
     ]
    }
   ],
   "source": [
    "class Deck:\n",
    "    def _init_(deck_type):\n",
    "        #54 36\n",
    "\n",
    "CH = \"chervy\"\n",
    "Pi = \"pika\"\n",
    "Bu = \"bubna\"\n",
    "Chr = \"chresta\"\n",
    "\n",
    "suits = [CH, Pi, Bu, Chr,]\n",
    "values36 = [\n",
    "    \"6\",\"7\",\"8\",\n",
    "    \"9\",\"10\",\"J\",\n",
    "    \"Q\",\"K\",\"A\",\n",
    "]  \n",
    "values54 = [\n",
    "    \n",
    "    \"2\",\"3\",\"4\",\n",
    "    \"5\",\"6\",\"7\",\n",
    "    \"8\",\"9\",\"10\",\n",
    "    \"J\",\"Q\",\"K\",\n",
    "    \"A\",\n",
    "]  \n",
    "\n",
    "    if deck_type == 36:\n",
    "        values = values36\n",
    "    elif deck_type == 54:\n",
    "        values = values54\n",
    "    elif deck_type == 52:\n",
    "        values = values54\n",
    "\n",
    "    self.koloda = []\n",
    "    for val in values:\n",
    "        for suit in suits:\n",
    "            c = Card(suit, val)\n",
    "            koloda.append(c)\n",
    "    if deck_type == 54:\n",
    "        koloda.append(Card(\"red\",\"Joker\"))\n",
    "        koloda.append(Card(\"black\",\"Joker\"))       \n",
    "        random.shuffle(koloda)\n",
    "    self.kozir = random.choise(suits)\n",
    "        "
   ]
  },
  {
   "cell_type": "code",
   "execution_count": null,
   "id": "5b7d9a1c-d8a2-48e3-9c15-a7a465edf6b2",
   "metadata": {},
   "outputs": [],
   "source": []
  }
 ],
 "metadata": {
  "kernelspec": {
   "display_name": "Python 3 (ipykernel)",
   "language": "python",
   "name": "python3"
  },
  "language_info": {
   "codemirror_mode": {
    "name": "ipython",
    "version": 3
   },
   "file_extension": ".py",
   "mimetype": "text/x-python",
   "name": "python",
   "nbconvert_exporter": "python",
   "pygments_lexer": "ipython3",
   "version": "3.13.7"
  }
 },
 "nbformat": 4,
 "nbformat_minor": 5
}
