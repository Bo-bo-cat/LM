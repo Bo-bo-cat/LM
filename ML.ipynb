{
 "cells": [
  {
   "cell_type": "markdown",
   "id": "9cc3f25b-7bcb-4904-9578-3d17e84da156",
   "metadata": {},
   "source": [
    "# Заголовок первого уровня\n",
    "## Заголовок второго уровня\n",
    "### Заголовок третьего уровня\n",
    "#### Заголовок четвёртого уровня\n",
    "##### Заголовок пятого уровня\n",
    "###### Заголовок шестого уровня\n"
   ]
  },
  {
   "cell_type": "code",
   "execution_count": 1,
   "id": "9154e6bf-b0e0-49ce-962b-5436829a0b43",
   "metadata": {},
   "outputs": [
    {
     "ename": "SyntaxError",
     "evalue": "invalid syntax (1692709513.py, line 1)",
     "output_type": "error",
     "traceback": [
      "  \u001b[36mCell\u001b[39m\u001b[36m \u001b[39m\u001b[32mIn[1]\u001b[39m\u001b[32m, line 1\u001b[39m\n\u001b[31m    \u001b[39m\u001b[31m*курсив*\u001b[39m\n              ^\n\u001b[31mSyntaxError\u001b[39m\u001b[31m:\u001b[39m invalid syntax\n"
     ]
    }
   ],
   "source": [
    "*курсив*  \n",
    "_курсив_\n",
    "\n",
    "**жирный**  \n",
    "__жирный__\n",
    "\n",
    "***жирный курсив***  \n",
    "___жирный курсив___\n",
    "\n",
    "~~зачеркнутый~~"
   ]
  },
  {
   "cell_type": "code",
   "execution_count": 2,
   "id": "4c5b68a5-70af-450b-ad28-0a01bf927ca0",
   "metadata": {},
   "outputs": [
    {
     "ename": "SyntaxError",
     "evalue": "invalid syntax (1692709513.py, line 1)",
     "output_type": "error",
     "traceback": [
      "  \u001b[36mCell\u001b[39m\u001b[36m \u001b[39m\u001b[32mIn[2]\u001b[39m\u001b[32m, line 1\u001b[39m\n\u001b[31m    \u001b[39m\u001b[31m*курсив*\u001b[39m\n              ^\n\u001b[31mSyntaxError\u001b[39m\u001b[31m:\u001b[39m invalid syntax\n"
     ]
    }
   ],
   "source": [
    "*курсив*  \n",
    "_курсив_\n",
    "\n",
    "**жирный**  \n",
    "__жирный__\n",
    "\n",
    "***жирный курсив***  \n",
    "___жирный курсив___\n",
    "\n",
    "~~зачеркнутый~~"
   ]
  },
  {
   "cell_type": "markdown",
   "id": "7c89c717-2acc-40fe-afa3-b222b7e9d8a8",
   "metadata": {},
   "source": [
    "*курсив*  \n",
    "_курсив_\n",
    "\n",
    "**жирный**  \n",
    "__жирный__\n",
    "\n",
    "***жирный курсив***  \n",
    "___жирный курсив___\n",
    "\n",
    "~~зачеркнутый~~"
   ]
  },
  {
   "cell_type": "markdown",
   "id": "786b6986-94b3-4a91-acac-89cd853916e9",
   "metadata": {},
   "source": [
    "Это параграф. Чтобы создать новый параграф, оставьте пустую строку между двумя строками текста.\n",
    "\n",
    "Это первая строка  \n",
    "И это вторая строка, но они находятся в одном параграфе. Для переноса строки используйте два пробела в конце предыдущей строки."
   ]
  },
  {
   "cell_type": "markdown",
   "id": "eed57d8f-b37d-4b38-a7d1-353fdfdd8ce0",
   "metadata": {},
   "source": [
    "1. Пункт первый\n",
    "    - Подпункт первый\n",
    "    - Подпункт второй\n",
    "2. Пункт второй"
   ]
  },
  {
   "cell_type": "markdown",
   "id": "7c33f73e-0d8a-4bec-92fd-7910733a0bfc",
   "metadata": {},
   "source": [
    "(https://www.example.com)"
   ]
  },
  {
   "cell_type": "markdown",
   "id": "a333d123-8a45-4478-a159-ab88615cb4b3",
   "metadata": {},
   "source": [
    "import antigravity\n"
   ]
  },
  {
   "cell_type": "code",
   "execution_count": 3,
   "id": "ed9628a8-5f51-40a8-930d-e536964a8314",
   "metadata": {},
   "outputs": [],
   "source": [
    "import antigravity"
   ]
  },
  {
   "cell_type": "code",
   "execution_count": 4,
   "id": "9fe90f76-5abb-4674-a886-71c2f1c82fcd",
   "metadata": {},
   "outputs": [],
   "source": [
    "import math\n",
    "from math import sin"
   ]
  },
  {
   "cell_type": "code",
   "execution_count": null,
   "id": "70241f5a-9769-4c05-899b-44f6cc751ebc",
   "metadata": {},
   "outputs": [],
   "source": []
  }
 ],
 "metadata": {
  "kernelspec": {
   "display_name": "Python 3 (ipykernel)",
   "language": "python",
   "name": "python3"
  },
  "language_info": {
   "codemirror_mode": {
    "name": "ipython",
    "version": 3
   },
   "file_extension": ".py",
   "mimetype": "text/x-python",
   "name": "python",
   "nbconvert_exporter": "python",
   "pygments_lexer": "ipython3",
   "version": "3.13.7"
  }
 },
 "nbformat": 4,
 "nbformat_minor": 5
}
