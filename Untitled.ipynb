{
 "cells": [
  {
   "cell_type": "code",
   "execution_count": 1,
   "id": "92a7172e-b3b7-49a2-b56d-a042c1acf94f",
   "metadata": {},
   "outputs": [
    {
     "ename": "NameError",
     "evalue": "name 'les' is not defined",
     "output_type": "error",
     "traceback": [
      "\u001b[31m---------------------------------------------------------------------------\u001b[39m",
      "\u001b[31mNameError\u001b[39m                                 Traceback (most recent call last)",
      "\u001b[36mCell\u001b[39m\u001b[36m \u001b[39m\u001b[32mIn[1]\u001b[39m\u001b[32m, line 1\u001b[39m\n\u001b[32m----> \u001b[39m\u001b[32m1\u001b[39m \u001b[43mles\u001b[49m\n",
      "\u001b[31mNameError\u001b[39m: name 'les' is not defined"
     ]
    }
   ],
   "source": [
    "les"
   ]
  },
  {
   "cell_type": "code",
   "execution_count": 4,
   "id": "ae4b866d-3806-46c4-bf4a-266235cee9b4",
   "metadata": {},
   "outputs": [],
   "source": [
    "fp = 2\n",
    "fp = 2\n",
    "tn = 2\n",
    "fn = 4"
   ]
  },
  {
   "cell_type": "code",
   "execution_count": 6,
   "id": "2d052ea4-027f-48cb-a0c6-4bf624b2e281",
   "metadata": {},
   "outputs": [
    {
     "name": "stdout",
     "output_type": "stream",
     "text": [
      "Accuracy 0.4\n"
     ]
    }
   ],
   "source": [
    "acc = (tp + tn) / (tp + tn + fp + fn)\n",
    "print (\"Accurancy\", acc) #точність  "
   ]
  },
  {
   "cell_type": "code",
   "execution_count": 10,
   "id": "bcc6843f-b36a-40d9-879f-4e8e8f20d654",
   "metadata": {},
   "outputs": [
    {
     "name": "stdout",
     "output_type": "stream",
     "text": [
      "Presision 0.5\n"
     ]
    }
   ],
   "source": [
    "tp = 2\n",
    "fp = 2\n",
    "tn = 2 \n",
    "fn = 2\n",
    "\n",
    "pre = tp / (tp + fp)\n",
    "print (\"Presision\", pre) #точність "
   ]
  },
  {
   "cell_type": "code",
   "execution_count": 11,
   "id": "56650573-c534-482d-8548-4f62514d1913",
   "metadata": {},
   "outputs": [
    {
     "name": "stdout",
     "output_type": "stream",
     "text": [
      "recall 0.3333333333333333\n"
     ]
    }
   ],
   "source": [
    "tp = 2\n",
    "fn = 4 \n",
    "\n",
    "rec = tp / (tp + fn)\n",
    "print (\"recall\", rec) #повнота для класу "
   ]
  },
  {
   "cell_type": "code",
   "execution_count": 16,
   "id": "c50aea93-df10-4115-b8a7-b051b0d84745",
   "metadata": {},
   "outputs": [
    {
     "name": "stdout",
     "output_type": "stream",
     "text": [
      "AE:0.00486\n"
     ]
    }
   ],
   "source": [
    "l1 = 1.343\n",
    "l2 = 1.347\n",
    "l3 = 1.351\n",
    "l4 = 1.354\n",
    "l5 = 1.352\n",
    "l6 = 1.353\n",
    "l7 = 1.35\n",
    "\n",
    "p1 = 1.344\n",
    "p2 = 1.342\n",
    "p3 = 1.348\n",
    "p4 = 1.347\n",
    "p5 = 1.346\n",
    "p6 = 1.345\n",
    "p7 = 1.344\n",
    "#по модулю \n",
    "MAE = abs(((l7-p7)+(l6-p6)+(l5-p5)+(l4-p4)+(l3-p3)+(l2-p2)+(l1-p1))/7)\n",
    "print (f\"AE:{AE:.3}\")"
   ]
  },
  {
   "cell_type": "code",
   "execution_count": 22,
   "id": "84c7136d-a0ad-409b-b96e-3e2d6002d789",
   "metadata": {},
   "outputs": [
    {
     "name": "stdout",
     "output_type": "stream",
     "text": [
      "ae 0.03485714285714536 se 0.00121502040816344 mse 0.03485714285714536\n"
     ]
    }
   ],
   "source": [
    "l1 = 1.343\n",
    "l2 = 1.347\n",
    "l3 = 1.351\n",
    "l4 = 1.354\n",
    "l5 = 1.352\n",
    "l6 = 1.353\n",
    "l7 = 1.35\n",
    "\n",
    "p1 = 1.344\n",
    "p2 = 1.342\n",
    "p3 = 1.348\n",
    "p4 = 1.347\n",
    "p5 = 1.346\n",
    "p6 = 1.345\n",
    "p7 = 1.344\n",
    "\n",
    "#СЕРЕДНЯ КВАДРАТИЧНА ПОМИЛКА ДЛЯ ВСІХ\n",
    "\n",
    "l = (l7)+(l6)+(l5)+(l4)+(l3)+(l2)+(l1)/7\n",
    "\n",
    "p = (p7)+(p6)+(p5)+(p4)+(p3)+(p2)+(p1)/7\n",
    "\n",
    "ae = abs(l-p)\n",
    "\n",
    "mse = (l-p)**2 # середнє відхилення ae\n",
    "\n",
    "rmse = mse **(1/2) # корінь з квадрата mse\n",
    "\n",
    "print (\"ae\",ae, \"se\", se, \"mse\", mse)"
   ]
  },
  {
   "cell_type": "code",
   "execution_count": 5,
   "id": "0b1c1f67-074c-4fb5-9419-e3163ea505ee",
   "metadata": {},
   "outputs": [
    {
     "name": "stdout",
     "output_type": "stream",
     "text": [
      "is_cros: 1\n"
     ]
    }
   ],
   "source": [
    "l_min_x = 400\n",
    "l_min_y = 400\n",
    "l_max_x = 600\n",
    "l_max_y = 600\n",
    "\n",
    "p_min_x = 300\n",
    "p_min_y = 300\n",
    "p_max_x = 500\n",
    "p_max_y = 500\n",
    "\n",
    "l_w = l_max_x - l_min_x \n",
    "p_w = p_max_x - p_min_x \n",
    "l_h = l_max_y - l_min_y\n",
    "p_h = p_max_y - p_min_y\n",
    "\n",
    "if((l_max_x < p_max_x < l_min_x) and (p_max_y < l_min_y < p_min_y)) or \\\n",
    "((l_min_x < p_min_y < l_max_x) and (l_min_y < p_min_y < l_max_y)):\n",
    "    is_cros = 0 \n",
    "else:\n",
    "    is_cros = 1\n",
    "print(\"is_cros:\", is_cros)"
   ]
  },
  {
   "cell_type": "code",
   "execution_count": null,
   "id": "d240b68c-3aed-40f3-b430-920f23b84cab",
   "metadata": {},
   "outputs": [],
   "source": []
  }
 ],
 "metadata": {
  "kernelspec": {
   "display_name": "Python 3 (ipykernel)",
   "language": "python",
   "name": "python3"
  },
  "language_info": {
   "codemirror_mode": {
    "name": "ipython",
    "version": 3
   },
   "file_extension": ".py",
   "mimetype": "text/x-python",
   "name": "python",
   "nbconvert_exporter": "python",
   "pygments_lexer": "ipython3",
   "version": "3.13.7"
  }
 },
 "nbformat": 4,
 "nbformat_minor": 5
}
